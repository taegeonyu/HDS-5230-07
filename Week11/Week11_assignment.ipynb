{
  "nbformat": 4,
  "nbformat_minor": 0,
  "metadata": {
    "colab": {
      "provenance": [],
      "machine_shape": "hm",
      "authorship_tag": "ABX9TyPA14luMrE2aRuBrriV/MMj",
      "include_colab_link": true
    },
    "kernelspec": {
      "name": "python3",
      "display_name": "Python 3"
    },
    "language_info": {
      "name": "python"
    }
  },
  "cells": [
    {
      "cell_type": "markdown",
      "metadata": {
        "id": "view-in-github",
        "colab_type": "text"
      },
      "source": [
        "<a href=\"https://colab.research.google.com/github/taegeonyu/HDS-5230-07/blob/main/Week11/Week11_assignment.ipynb\" target=\"_parent\"><img src=\"https://colab.research.google.com/assets/colab-badge.svg\" alt=\"Open In Colab\"/></a>"
      ]
    },
    {
      "cell_type": "code",
      "execution_count": 1,
      "metadata": {
        "colab": {
          "base_uri": "https://localhost:8080/"
        },
        "id": "So6jHtrNYhYh",
        "outputId": "e656c21a-8ce6-41c1-a737-e9a4ec50d8f8"
      },
      "outputs": [
        {
          "output_type": "stream",
          "name": "stdout",
          "text": [
            "Reading package lists... Done\n",
            "Building dependency tree... Done\n",
            "Reading state information... Done\n",
            "libcurl4-openssl-dev is already the newest version (7.81.0-1ubuntu1.20).\n",
            "libssl-dev is already the newest version (3.0.2-0ubuntu1.19).\n",
            "libxml2-dev is already the newest version (2.9.13+dfsg-1ubuntu0.6).\n",
            "0 upgraded, 0 newly installed, 0 to remove and 34 not upgraded.\n",
            "Reading package lists... Done\n",
            "Building dependency tree... Done\n",
            "Reading state information... Done\n",
            "r-base is already the newest version (4.5.0-2.2204.0).\n",
            "0 upgraded, 0 newly installed, 0 to remove and 34 not upgraded.\n"
          ]
        }
      ],
      "source": [
        "# Install R essentials\n",
        "!apt-get install -y libcurl4-openssl-dev libssl-dev libxml2-dev\n",
        "!apt-get install -y r-base"
      ]
    },
    {
      "cell_type": "code",
      "source": [
        "# Install required R libraries\n",
        "!Rscript -e 'install.packages(c(\"mlbench\", \"purrr\"))'"
      ],
      "metadata": {
        "colab": {
          "base_uri": "https://localhost:8080/"
        },
        "id": "HreHP6RgYqM5",
        "outputId": "2cff625b-b93d-4cc3-efd9-06bafd03107d"
      },
      "execution_count": 2,
      "outputs": [
        {
          "output_type": "stream",
          "name": "stdout",
          "text": [
            "Installing packages into ‘/usr/local/lib/R/site-library’\n",
            "(as ‘lib’ is unspecified)\n",
            "trying URL 'https://cran.rstudio.com/src/contrib/mlbench_2.1-6.tar.gz'\n",
            "trying URL 'https://cran.rstudio.com/src/contrib/purrr_1.0.4.tar.gz'\n",
            "* installing *source* package ‘mlbench’ ...\n",
            "** this is package ‘mlbench’ version ‘2.1-6’\n",
            "** package ‘mlbench’ successfully unpacked and MD5 sums checked\n",
            "** using staged installation\n",
            "** libs\n",
            "using C compiler: ‘gcc (Ubuntu 11.4.0-1ubuntu1~22.04) 11.4.0’\n",
            "gcc -I\"/usr/share/R/include\" -DNDEBUG       -fpic  -g -O2 -ffile-prefix-map=/build/r-base-TYDrW1/r-base-4.5.0=. -fstack-protector-strong -Wformat -Werror=format-security -Wdate-time -D_FORTIFY_SOURCE=2  -c init.c -o init.o\n",
            "gcc -I\"/usr/share/R/include\" -DNDEBUG       -fpic  -g -O2 -ffile-prefix-map=/build/r-base-TYDrW1/r-base-4.5.0=. -fstack-protector-strong -Wformat -Werror=format-security -Wdate-time -D_FORTIFY_SOURCE=2  -c waveform.c -o waveform.o\n",
            "gcc -shared -L/usr/lib/R/lib -Wl,-Bsymbolic-functions -flto=auto -ffat-lto-objects -flto=auto -Wl,-z,relro -o mlbench.so init.o waveform.o -L/usr/lib/R/lib -lR\n",
            "installing to /usr/local/lib/R/site-library/00LOCK-mlbench/00new/mlbench/libs\n",
            "** R\n",
            "** data\n",
            "** inst\n",
            "** byte-compile and prepare package for lazy loading\n",
            "** help\n",
            "*** installing help indices\n",
            "** building package indices\n",
            "** testing if installed package can be loaded from temporary location\n",
            "** checking absolute paths in shared objects and dynamic libraries\n",
            "** testing if installed package can be loaded from final location\n",
            "** testing if installed package keeps a record of temporary installation path\n",
            "* DONE (mlbench)\n",
            "* installing *source* package ‘purrr’ ...\n",
            "** this is package ‘purrr’ version ‘1.0.4’\n",
            "** package ‘purrr’ successfully unpacked and MD5 sums checked\n",
            "** using staged installation\n",
            "** libs\n",
            "using C compiler: ‘gcc (Ubuntu 11.4.0-1ubuntu1~22.04) 11.4.0’\n",
            "gcc -I\"/usr/share/R/include\" -DNDEBUG  -I'/usr/lib/R/site-library/cli/include'    -fvisibility=hidden -fpic  -g -O2 -ffile-prefix-map=/build/r-base-TYDrW1/r-base-4.5.0=. -fstack-protector-strong -Wformat -Werror=format-security -Wdate-time -D_FORTIFY_SOURCE=2  -c backports.c -o backports.o\n",
            "gcc -I\"/usr/share/R/include\" -DNDEBUG  -I'/usr/lib/R/site-library/cli/include'    -fvisibility=hidden -fpic  -g -O2 -ffile-prefix-map=/build/r-base-TYDrW1/r-base-4.5.0=. -fstack-protector-strong -Wformat -Werror=format-security -Wdate-time -D_FORTIFY_SOURCE=2  -c cleancall.c -o cleancall.o\n",
            "gcc -I\"/usr/share/R/include\" -DNDEBUG  -I'/usr/lib/R/site-library/cli/include'    -fvisibility=hidden -fpic  -g -O2 -ffile-prefix-map=/build/r-base-TYDrW1/r-base-4.5.0=. -fstack-protector-strong -Wformat -Werror=format-security -Wdate-time -D_FORTIFY_SOURCE=2  -c coerce.c -o coerce.o\n",
            "gcc -I\"/usr/share/R/include\" -DNDEBUG  -I'/usr/lib/R/site-library/cli/include'    -fvisibility=hidden -fpic  -g -O2 -ffile-prefix-map=/build/r-base-TYDrW1/r-base-4.5.0=. -fstack-protector-strong -Wformat -Werror=format-security -Wdate-time -D_FORTIFY_SOURCE=2  -c conditions.c -o conditions.o\n",
            "gcc -I\"/usr/share/R/include\" -DNDEBUG  -I'/usr/lib/R/site-library/cli/include'    -fvisibility=hidden -fpic  -g -O2 -ffile-prefix-map=/build/r-base-TYDrW1/r-base-4.5.0=. -fstack-protector-strong -Wformat -Werror=format-security -Wdate-time -D_FORTIFY_SOURCE=2  -c flatten.c -o flatten.o\n",
            "gcc -I\"/usr/share/R/include\" -DNDEBUG  -I'/usr/lib/R/site-library/cli/include'    -fvisibility=hidden -fpic  -g -O2 -ffile-prefix-map=/build/r-base-TYDrW1/r-base-4.5.0=. -fstack-protector-strong -Wformat -Werror=format-security -Wdate-time -D_FORTIFY_SOURCE=2  -c init.c -o init.o\n",
            "gcc -I\"/usr/share/R/include\" -DNDEBUG  -I'/usr/lib/R/site-library/cli/include'    -fvisibility=hidden -fpic  -g -O2 -ffile-prefix-map=/build/r-base-TYDrW1/r-base-4.5.0=. -fstack-protector-strong -Wformat -Werror=format-security -Wdate-time -D_FORTIFY_SOURCE=2  -c map.c -o map.o\n",
            "gcc -I\"/usr/share/R/include\" -DNDEBUG  -I'/usr/lib/R/site-library/cli/include'    -fvisibility=hidden -fpic  -g -O2 -ffile-prefix-map=/build/r-base-TYDrW1/r-base-4.5.0=. -fstack-protector-strong -Wformat -Werror=format-security -Wdate-time -D_FORTIFY_SOURCE=2  -c pluck.c -o pluck.o\n",
            "gcc -I\"/usr/share/R/include\" -DNDEBUG  -I'/usr/lib/R/site-library/cli/include'    -fvisibility=hidden -fpic  -g -O2 -ffile-prefix-map=/build/r-base-TYDrW1/r-base-4.5.0=. -fstack-protector-strong -Wformat -Werror=format-security -Wdate-time -D_FORTIFY_SOURCE=2  -c transpose.c -o transpose.o\n",
            "gcc -I\"/usr/share/R/include\" -DNDEBUG  -I'/usr/lib/R/site-library/cli/include'    -fvisibility=hidden -fpic  -g -O2 -ffile-prefix-map=/build/r-base-TYDrW1/r-base-4.5.0=. -fstack-protector-strong -Wformat -Werror=format-security -Wdate-time -D_FORTIFY_SOURCE=2  -c utils.c -o utils.o\n",
            "gcc -shared -L/usr/lib/R/lib -Wl,-Bsymbolic-functions -flto=auto -ffat-lto-objects -flto=auto -Wl,-z,relro -o purrr.so backports.o cleancall.o coerce.o conditions.o flatten.o init.o map.o pluck.o transpose.o utils.o -L/usr/lib/R/lib -lR\n",
            "installing to /usr/local/lib/R/site-library/00LOCK-purrr/00new/purrr/libs\n",
            "** R\n",
            "** inst\n",
            "** byte-compile and prepare package for lazy loading\n",
            "** help\n",
            "*** installing help indices\n",
            "*** copying figures\n",
            "** building package indices\n",
            "** installing vignettes\n",
            "** testing if installed package can be loaded from temporary location\n",
            "** checking absolute paths in shared objects and dynamic libraries\n",
            "** testing if installed package can be loaded from final location\n",
            "** testing if installed package keeps a record of temporary installation path\n",
            "* DONE (purrr)\n",
            "\n",
            "The downloaded source packages are in\n",
            "\t‘/tmp/RtmpMfeH8F/downloaded_packages’\n"
          ]
        }
      ]
    },
    {
      "cell_type": "code",
      "source": [
        "# install rpy2\n",
        "!pip install -q rpy2"
      ],
      "metadata": {
        "id": "9t76WsuwY6GD"
      },
      "execution_count": 3,
      "outputs": []
    },
    {
      "cell_type": "code",
      "source": [
        "# load rpy2 extension\n",
        "%load_ext rpy2.ipython"
      ],
      "metadata": {
        "id": "dSCzCILRY9Em"
      },
      "execution_count": 4,
      "outputs": []
    },
    {
      "cell_type": "code",
      "source": [
        "# run R code to generate data\n",
        "%%R\n",
        "\n",
        "library(mlbench)\n",
        "library(purrr)\n",
        "\n",
        "data(\"PimaIndiansDiabetes2\")\n",
        "ds <- as.data.frame(na.omit(PimaIndiansDiabetes2))\n",
        "\n",
        "## Fit logistic regression\n",
        "logmodel <- glm(diabetes ~ ., data = ds, family = \"binomial\")\n",
        "\n",
        "cfs <- coefficients(logmodel)\n",
        "prednames <- variable.names(ds)[-9]\n",
        "\n",
        "sz <- 1000000  # WARNING: sz=100 million might crash Colab! Try 1 million first\n",
        "\n",
        "dfdata <- map_dfc(prednames,\n",
        "                  function(nm){\n",
        "                    eval(parse(text = paste0(\"sample(ds$\", nm,\n",
        "                                             \", size = sz, replace = T)\")))\n",
        "                  })\n",
        "\n",
        "names(dfdata) <- prednames\n",
        "\n",
        "pvec <- map((1:8),\n",
        "            function(pnum){\n",
        "              cfs[pnum+1] * eval(parse(text = paste0(\"dfdata$\", prednames[pnum])))\n",
        "            }) %>%\n",
        "  reduce(`+`) + cfs[1]\n",
        "\n",
        "dfdata$outcome <- ifelse(1/(1 + exp(-pvec)) > 0.5, 1, 0)\n",
        "\n",
        "write.csv(dfdata, file = \"dfdata.csv\", row.names = FALSE)"
      ],
      "metadata": {
        "colab": {
          "base_uri": "https://localhost:8080/"
        },
        "id": "TZaKEqMwYq5t",
        "outputId": "2ae28930-13e9-4abc-9a2d-73264cd8426b"
      },
      "execution_count": 5,
      "outputs": [
        {
          "output_type": "stream",
          "name": "stdout",
          "text": [
            "New names:\n",
            "• `` -> `...1`\n",
            "• `` -> `...2`\n",
            "• `` -> `...3`\n",
            "• `` -> `...4`\n",
            "• `` -> `...5`\n",
            "• `` -> `...6`\n",
            "• `` -> `...7`\n",
            "• `` -> `...8`\n"
          ]
        }
      ]
    },
    {
      "cell_type": "markdown",
      "source": [
        "## XGBoost in Python via scikit-learn and 5-fold CV"
      ],
      "metadata": {
        "id": "s-MjZyXWjqXR"
      }
    },
    {
      "cell_type": "code",
      "source": [
        "# import necessary libraries for the task\n",
        "import pandas as pd\n",
        "import time\n",
        "from xgboost import XGBClassifier\n",
        "from sklearn.model_selection import cross_val_score, StratifiedKFold"
      ],
      "metadata": {
        "id": "0lL28t2EYxOM"
      },
      "execution_count": 16,
      "outputs": []
    },
    {
      "cell_type": "code",
      "source": [
        "# read data\n",
        "df = pd.read_csv('/content/dfdata.csv')\n",
        "df.shape"
      ],
      "metadata": {
        "colab": {
          "base_uri": "https://localhost:8080/"
        },
        "id": "Owkk7kylZVRA",
        "outputId": "1ce944d8-8320-400b-a204-6786c1a142f1"
      },
      "execution_count": 7,
      "outputs": [
        {
          "output_type": "execute_result",
          "data": {
            "text/plain": [
              "(1000000, 9)"
            ]
          },
          "metadata": {},
          "execution_count": 7
        }
      ]
    },
    {
      "cell_type": "code",
      "source": [
        "df.head()"
      ],
      "metadata": {
        "colab": {
          "base_uri": "https://localhost:8080/",
          "height": 206
        },
        "id": "8Ck2HJ0aZYQA",
        "outputId": "921431b6-8639-4434-b295-c52a12153aaf"
      },
      "execution_count": 8,
      "outputs": [
        {
          "output_type": "execute_result",
          "data": {
            "text/plain": [
              "   pregnant  glucose  pressure  triceps  insulin  mass  pedigree  age  outcome\n",
              "0         3      169        56       24      846  43.6     0.460   32        1\n",
              "1         0      104        88       41      142  30.4     0.586   25        0\n",
              "2         1       96        82       33      145  33.3     0.674   50        0\n",
              "3         0      124        60       13       86  32.0     0.335   37        0\n",
              "4         2      121        84       37       72  30.1     0.444   32        0"
            ],
            "text/html": [
              "\n",
              "  <div id=\"df-7d063111-1a07-4474-a3fb-fee2764d1ff2\" class=\"colab-df-container\">\n",
              "    <div>\n",
              "<style scoped>\n",
              "    .dataframe tbody tr th:only-of-type {\n",
              "        vertical-align: middle;\n",
              "    }\n",
              "\n",
              "    .dataframe tbody tr th {\n",
              "        vertical-align: top;\n",
              "    }\n",
              "\n",
              "    .dataframe thead th {\n",
              "        text-align: right;\n",
              "    }\n",
              "</style>\n",
              "<table border=\"1\" class=\"dataframe\">\n",
              "  <thead>\n",
              "    <tr style=\"text-align: right;\">\n",
              "      <th></th>\n",
              "      <th>pregnant</th>\n",
              "      <th>glucose</th>\n",
              "      <th>pressure</th>\n",
              "      <th>triceps</th>\n",
              "      <th>insulin</th>\n",
              "      <th>mass</th>\n",
              "      <th>pedigree</th>\n",
              "      <th>age</th>\n",
              "      <th>outcome</th>\n",
              "    </tr>\n",
              "  </thead>\n",
              "  <tbody>\n",
              "    <tr>\n",
              "      <th>0</th>\n",
              "      <td>3</td>\n",
              "      <td>169</td>\n",
              "      <td>56</td>\n",
              "      <td>24</td>\n",
              "      <td>846</td>\n",
              "      <td>43.6</td>\n",
              "      <td>0.460</td>\n",
              "      <td>32</td>\n",
              "      <td>1</td>\n",
              "    </tr>\n",
              "    <tr>\n",
              "      <th>1</th>\n",
              "      <td>0</td>\n",
              "      <td>104</td>\n",
              "      <td>88</td>\n",
              "      <td>41</td>\n",
              "      <td>142</td>\n",
              "      <td>30.4</td>\n",
              "      <td>0.586</td>\n",
              "      <td>25</td>\n",
              "      <td>0</td>\n",
              "    </tr>\n",
              "    <tr>\n",
              "      <th>2</th>\n",
              "      <td>1</td>\n",
              "      <td>96</td>\n",
              "      <td>82</td>\n",
              "      <td>33</td>\n",
              "      <td>145</td>\n",
              "      <td>33.3</td>\n",
              "      <td>0.674</td>\n",
              "      <td>50</td>\n",
              "      <td>0</td>\n",
              "    </tr>\n",
              "    <tr>\n",
              "      <th>3</th>\n",
              "      <td>0</td>\n",
              "      <td>124</td>\n",
              "      <td>60</td>\n",
              "      <td>13</td>\n",
              "      <td>86</td>\n",
              "      <td>32.0</td>\n",
              "      <td>0.335</td>\n",
              "      <td>37</td>\n",
              "      <td>0</td>\n",
              "    </tr>\n",
              "    <tr>\n",
              "      <th>4</th>\n",
              "      <td>2</td>\n",
              "      <td>121</td>\n",
              "      <td>84</td>\n",
              "      <td>37</td>\n",
              "      <td>72</td>\n",
              "      <td>30.1</td>\n",
              "      <td>0.444</td>\n",
              "      <td>32</td>\n",
              "      <td>0</td>\n",
              "    </tr>\n",
              "  </tbody>\n",
              "</table>\n",
              "</div>\n",
              "    <div class=\"colab-df-buttons\">\n",
              "\n",
              "  <div class=\"colab-df-container\">\n",
              "    <button class=\"colab-df-convert\" onclick=\"convertToInteractive('df-7d063111-1a07-4474-a3fb-fee2764d1ff2')\"\n",
              "            title=\"Convert this dataframe to an interactive table.\"\n",
              "            style=\"display:none;\">\n",
              "\n",
              "  <svg xmlns=\"http://www.w3.org/2000/svg\" height=\"24px\" viewBox=\"0 -960 960 960\">\n",
              "    <path d=\"M120-120v-720h720v720H120Zm60-500h600v-160H180v160Zm220 220h160v-160H400v160Zm0 220h160v-160H400v160ZM180-400h160v-160H180v160Zm440 0h160v-160H620v160ZM180-180h160v-160H180v160Zm440 0h160v-160H620v160Z\"/>\n",
              "  </svg>\n",
              "    </button>\n",
              "\n",
              "  <style>\n",
              "    .colab-df-container {\n",
              "      display:flex;\n",
              "      gap: 12px;\n",
              "    }\n",
              "\n",
              "    .colab-df-convert {\n",
              "      background-color: #E8F0FE;\n",
              "      border: none;\n",
              "      border-radius: 50%;\n",
              "      cursor: pointer;\n",
              "      display: none;\n",
              "      fill: #1967D2;\n",
              "      height: 32px;\n",
              "      padding: 0 0 0 0;\n",
              "      width: 32px;\n",
              "    }\n",
              "\n",
              "    .colab-df-convert:hover {\n",
              "      background-color: #E2EBFA;\n",
              "      box-shadow: 0px 1px 2px rgba(60, 64, 67, 0.3), 0px 1px 3px 1px rgba(60, 64, 67, 0.15);\n",
              "      fill: #174EA6;\n",
              "    }\n",
              "\n",
              "    .colab-df-buttons div {\n",
              "      margin-bottom: 4px;\n",
              "    }\n",
              "\n",
              "    [theme=dark] .colab-df-convert {\n",
              "      background-color: #3B4455;\n",
              "      fill: #D2E3FC;\n",
              "    }\n",
              "\n",
              "    [theme=dark] .colab-df-convert:hover {\n",
              "      background-color: #434B5C;\n",
              "      box-shadow: 0px 1px 3px 1px rgba(0, 0, 0, 0.15);\n",
              "      filter: drop-shadow(0px 1px 2px rgba(0, 0, 0, 0.3));\n",
              "      fill: #FFFFFF;\n",
              "    }\n",
              "  </style>\n",
              "\n",
              "    <script>\n",
              "      const buttonEl =\n",
              "        document.querySelector('#df-7d063111-1a07-4474-a3fb-fee2764d1ff2 button.colab-df-convert');\n",
              "      buttonEl.style.display =\n",
              "        google.colab.kernel.accessAllowed ? 'block' : 'none';\n",
              "\n",
              "      async function convertToInteractive(key) {\n",
              "        const element = document.querySelector('#df-7d063111-1a07-4474-a3fb-fee2764d1ff2');\n",
              "        const dataTable =\n",
              "          await google.colab.kernel.invokeFunction('convertToInteractive',\n",
              "                                                    [key], {});\n",
              "        if (!dataTable) return;\n",
              "\n",
              "        const docLinkHtml = 'Like what you see? Visit the ' +\n",
              "          '<a target=\"_blank\" href=https://colab.research.google.com/notebooks/data_table.ipynb>data table notebook</a>'\n",
              "          + ' to learn more about interactive tables.';\n",
              "        element.innerHTML = '';\n",
              "        dataTable['output_type'] = 'display_data';\n",
              "        await google.colab.output.renderOutput(dataTable, element);\n",
              "        const docLink = document.createElement('div');\n",
              "        docLink.innerHTML = docLinkHtml;\n",
              "        element.appendChild(docLink);\n",
              "      }\n",
              "    </script>\n",
              "  </div>\n",
              "\n",
              "\n",
              "    <div id=\"df-f36057d8-0886-4c6f-af9e-c34c8383f86c\">\n",
              "      <button class=\"colab-df-quickchart\" onclick=\"quickchart('df-f36057d8-0886-4c6f-af9e-c34c8383f86c')\"\n",
              "                title=\"Suggest charts\"\n",
              "                style=\"display:none;\">\n",
              "\n",
              "<svg xmlns=\"http://www.w3.org/2000/svg\" height=\"24px\"viewBox=\"0 0 24 24\"\n",
              "     width=\"24px\">\n",
              "    <g>\n",
              "        <path d=\"M19 3H5c-1.1 0-2 .9-2 2v14c0 1.1.9 2 2 2h14c1.1 0 2-.9 2-2V5c0-1.1-.9-2-2-2zM9 17H7v-7h2v7zm4 0h-2V7h2v10zm4 0h-2v-4h2v4z\"/>\n",
              "    </g>\n",
              "</svg>\n",
              "      </button>\n",
              "\n",
              "<style>\n",
              "  .colab-df-quickchart {\n",
              "      --bg-color: #E8F0FE;\n",
              "      --fill-color: #1967D2;\n",
              "      --hover-bg-color: #E2EBFA;\n",
              "      --hover-fill-color: #174EA6;\n",
              "      --disabled-fill-color: #AAA;\n",
              "      --disabled-bg-color: #DDD;\n",
              "  }\n",
              "\n",
              "  [theme=dark] .colab-df-quickchart {\n",
              "      --bg-color: #3B4455;\n",
              "      --fill-color: #D2E3FC;\n",
              "      --hover-bg-color: #434B5C;\n",
              "      --hover-fill-color: #FFFFFF;\n",
              "      --disabled-bg-color: #3B4455;\n",
              "      --disabled-fill-color: #666;\n",
              "  }\n",
              "\n",
              "  .colab-df-quickchart {\n",
              "    background-color: var(--bg-color);\n",
              "    border: none;\n",
              "    border-radius: 50%;\n",
              "    cursor: pointer;\n",
              "    display: none;\n",
              "    fill: var(--fill-color);\n",
              "    height: 32px;\n",
              "    padding: 0;\n",
              "    width: 32px;\n",
              "  }\n",
              "\n",
              "  .colab-df-quickchart:hover {\n",
              "    background-color: var(--hover-bg-color);\n",
              "    box-shadow: 0 1px 2px rgba(60, 64, 67, 0.3), 0 1px 3px 1px rgba(60, 64, 67, 0.15);\n",
              "    fill: var(--button-hover-fill-color);\n",
              "  }\n",
              "\n",
              "  .colab-df-quickchart-complete:disabled,\n",
              "  .colab-df-quickchart-complete:disabled:hover {\n",
              "    background-color: var(--disabled-bg-color);\n",
              "    fill: var(--disabled-fill-color);\n",
              "    box-shadow: none;\n",
              "  }\n",
              "\n",
              "  .colab-df-spinner {\n",
              "    border: 2px solid var(--fill-color);\n",
              "    border-color: transparent;\n",
              "    border-bottom-color: var(--fill-color);\n",
              "    animation:\n",
              "      spin 1s steps(1) infinite;\n",
              "  }\n",
              "\n",
              "  @keyframes spin {\n",
              "    0% {\n",
              "      border-color: transparent;\n",
              "      border-bottom-color: var(--fill-color);\n",
              "      border-left-color: var(--fill-color);\n",
              "    }\n",
              "    20% {\n",
              "      border-color: transparent;\n",
              "      border-left-color: var(--fill-color);\n",
              "      border-top-color: var(--fill-color);\n",
              "    }\n",
              "    30% {\n",
              "      border-color: transparent;\n",
              "      border-left-color: var(--fill-color);\n",
              "      border-top-color: var(--fill-color);\n",
              "      border-right-color: var(--fill-color);\n",
              "    }\n",
              "    40% {\n",
              "      border-color: transparent;\n",
              "      border-right-color: var(--fill-color);\n",
              "      border-top-color: var(--fill-color);\n",
              "    }\n",
              "    60% {\n",
              "      border-color: transparent;\n",
              "      border-right-color: var(--fill-color);\n",
              "    }\n",
              "    80% {\n",
              "      border-color: transparent;\n",
              "      border-right-color: var(--fill-color);\n",
              "      border-bottom-color: var(--fill-color);\n",
              "    }\n",
              "    90% {\n",
              "      border-color: transparent;\n",
              "      border-bottom-color: var(--fill-color);\n",
              "    }\n",
              "  }\n",
              "</style>\n",
              "\n",
              "      <script>\n",
              "        async function quickchart(key) {\n",
              "          const quickchartButtonEl =\n",
              "            document.querySelector('#' + key + ' button');\n",
              "          quickchartButtonEl.disabled = true;  // To prevent multiple clicks.\n",
              "          quickchartButtonEl.classList.add('colab-df-spinner');\n",
              "          try {\n",
              "            const charts = await google.colab.kernel.invokeFunction(\n",
              "                'suggestCharts', [key], {});\n",
              "          } catch (error) {\n",
              "            console.error('Error during call to suggestCharts:', error);\n",
              "          }\n",
              "          quickchartButtonEl.classList.remove('colab-df-spinner');\n",
              "          quickchartButtonEl.classList.add('colab-df-quickchart-complete');\n",
              "        }\n",
              "        (() => {\n",
              "          let quickchartButtonEl =\n",
              "            document.querySelector('#df-f36057d8-0886-4c6f-af9e-c34c8383f86c button');\n",
              "          quickchartButtonEl.style.display =\n",
              "            google.colab.kernel.accessAllowed ? 'block' : 'none';\n",
              "        })();\n",
              "      </script>\n",
              "    </div>\n",
              "\n",
              "    </div>\n",
              "  </div>\n"
            ],
            "application/vnd.google.colaboratory.intrinsic+json": {
              "type": "dataframe",
              "variable_name": "df"
            }
          },
          "metadata": {},
          "execution_count": 8
        }
      ]
    },
    {
      "cell_type": "code",
      "source": [
        "# function for evaluation\n",
        "def xgboost_eval(df, size):\n",
        "      # empty dictionary\n",
        "      results = {}\n",
        "      # split X and y\n",
        "      data = df.sample(n = size, replace = True, random_state = 42)\n",
        "      X = data.drop('outcome', axis = 1).values\n",
        "      y = data['outcome'].values\n",
        "\n",
        "      # stratified kfold for cross validation\n",
        "      cv = StratifiedKFold(n_splits = 5, shuffle = True, random_state = 42)\n",
        "\n",
        "      # define model\n",
        "      model = XGBClassifier(eval_metric = 'logloss')\n",
        "\n",
        "      # start time\n",
        "      start = time.time()\n",
        "\n",
        "      # accuracy score\n",
        "      scores = cross_val_score(model, X, y, cv = cv, scoring = 'accuracy', n_jobs = -1)\n",
        "      score = scores.mean()\n",
        "\n",
        "      # time taken\n",
        "      time_taken = time.time() - start\n",
        "\n",
        "      results[size] = {\n",
        "            'accuracy': score,\n",
        "            'time_taken': time_taken\n",
        "        }\n",
        "\n",
        "      return results"
      ],
      "metadata": {
        "id": "2u38FQxJciWD"
      },
      "execution_count": 9,
      "outputs": []
    },
    {
      "cell_type": "code",
      "source": [
        "# xgboost with 100 samples\n",
        "xgboost_eval(df, 100)"
      ],
      "metadata": {
        "colab": {
          "base_uri": "https://localhost:8080/"
        },
        "id": "OrB60Ft7cvIn",
        "outputId": "52dcb90c-3e8c-4ee2-c4da-63511eb19d47"
      },
      "execution_count": 10,
      "outputs": [
        {
          "output_type": "execute_result",
          "data": {
            "text/plain": [
              "{100: {'accuracy': np.float64(0.9200000000000002),\n",
              "  'time_taken': 1.4070422649383545}}"
            ]
          },
          "metadata": {},
          "execution_count": 10
        }
      ]
    },
    {
      "cell_type": "code",
      "source": [
        "# xgboost with 1000 samples\n",
        "xgboost_eval(df, 1000)"
      ],
      "metadata": {
        "colab": {
          "base_uri": "https://localhost:8080/"
        },
        "id": "JpIZR4BQfSEz",
        "outputId": "72422393-4d75-4897-8b3b-97fefcbf9c93"
      },
      "execution_count": 11,
      "outputs": [
        {
          "output_type": "execute_result",
          "data": {
            "text/plain": [
              "{1000: {'accuracy': np.float64(0.9510000000000002),\n",
              "  'time_taken': 0.7660882472991943}}"
            ]
          },
          "metadata": {},
          "execution_count": 11
        }
      ]
    },
    {
      "cell_type": "code",
      "source": [
        "# xgboost with 10000 samples\n",
        "xgboost_eval(df, 10000)"
      ],
      "metadata": {
        "colab": {
          "base_uri": "https://localhost:8080/"
        },
        "id": "12SAouLSidLx",
        "outputId": "4d226455-bc66-4ff7-c7ac-a335fcf0f8b3"
      },
      "execution_count": 12,
      "outputs": [
        {
          "output_type": "execute_result",
          "data": {
            "text/plain": [
              "{10000: {'accuracy': np.float64(0.9749000000000001),\n",
              "  'time_taken': 0.16933250427246094}}"
            ]
          },
          "metadata": {},
          "execution_count": 12
        }
      ]
    },
    {
      "cell_type": "code",
      "source": [
        "# xgboost with 100000 samples\n",
        "xgboost_eval(df, 100000)"
      ],
      "metadata": {
        "colab": {
          "base_uri": "https://localhost:8080/"
        },
        "id": "rZ79Z7V9iiZK",
        "outputId": "219bfb69-0d60-40ca-9071-0595adba9a55"
      },
      "execution_count": 13,
      "outputs": [
        {
          "output_type": "execute_result",
          "data": {
            "text/plain": [
              "{100000: {'accuracy': np.float64(0.9879), 'time_taken': 0.9474430084228516}}"
            ]
          },
          "metadata": {},
          "execution_count": 13
        }
      ]
    },
    {
      "cell_type": "code",
      "source": [
        "# xgboost with 1000000 samples\n",
        "xgboost_eval(df, 1000000)"
      ],
      "metadata": {
        "colab": {
          "base_uri": "https://localhost:8080/"
        },
        "id": "NXKHSggCij0-",
        "outputId": "a0838cba-fde3-4557-86c2-17c58c4ca99a"
      },
      "execution_count": 14,
      "outputs": [
        {
          "output_type": "execute_result",
          "data": {
            "text/plain": [
              "{1000000: {'accuracy': np.float64(0.994014), 'time_taken': 7.958971738815308}}"
            ]
          },
          "metadata": {},
          "execution_count": 14
        }
      ]
    },
    {
      "cell_type": "code",
      "source": [
        "# xgboost with 10000000 samples\n",
        "xgboost_eval(df, 10000000)"
      ],
      "metadata": {
        "colab": {
          "base_uri": "https://localhost:8080/"
        },
        "id": "FpD6HoZQixC1",
        "outputId": "a13778c4-9060-486d-a838-496b451a9ea5"
      },
      "execution_count": 15,
      "outputs": [
        {
          "output_type": "execute_result",
          "data": {
            "text/plain": [
              "{10000000: {'accuracy': np.float64(0.9953551),\n",
              "  'time_taken': 83.37399387359619}}"
            ]
          },
          "metadata": {},
          "execution_count": 15
        }
      ]
    }
  ]
}