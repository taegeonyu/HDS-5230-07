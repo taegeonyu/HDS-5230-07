{
 "cells": [
  {
   "cell_type": "code",
   "execution_count": 0,
   "metadata": {
    "application/vnd.databricks.v1+cell": {
     "cellMetadata": {
      "byteLimit": 2048000,
      "rowLimit": 10000
     },
     "inputWidgets": {},
     "nuid": "cda0609c-793c-4d46-a72c-ee6c5a757739",
     "showTitle": false,
     "tableResultSettingsMap": {},
     "title": ""
    }
   },
   "outputs": [
    {
     "output_type": "stream",
     "name": "stdout",
     "output_type": "stream",
     "text": [
      "Out[85]: '\\n# check if the datasets are loaded successfully \\ndisplay(dbutils.fs.ls(\"dbfs:/FileStore/tables/HDS/Week7\"))\\n\\n# use spark to read the datasets\\nownership_df = spark.read.csv(\"dbfs:/FileStore/tables/HDS/Week7/OP_DTL_OWNRSHP_PGYR2023_P01302025_01212025.csv\", header=True, inferSchema=True)\\n\\nrecipient_df = spark.read.csv(\"dbfs:/FileStore/tables/HDS/Week7/OP_CVRD_RCPNT_PRFL_SPLMTL_P01302025_01212025.csv\", header=True, inferSchema=True)\\n\\nresearch_df = spark.read.csv(\"dbfs:/FileStore/tables/HDS/Week7/OP_DTL_RSRCH_PGYR2023_P01302025_01212025.csv\", header=True, inferSchema=True)\\n\\n# save these data as tables in default data storage\\nownership_df.write.mode(\"overwrite\").saveAsTable(\"default.op_ownership_2023\")\\nrecipient_df.write.mode(\"overwrite\").saveAsTable(\"default.op_recipient_2023\")\\nresearch_df.write.mode(\"overwrite\").saveAsTable(\"default.op_researc_2023\")\\n'"
     ]
    }
   ],
   "source": [
    "# initial set up to store the datasets into default data storage in hive_metastore\n",
    "\"\"\"\n",
    "# check if the datasets are loaded successfully \n",
    "display(dbutils.fs.ls(\"dbfs:/FileStore/tables/HDS/Week7\"))\n",
    "\n",
    "# use spark to read the datasets\n",
    "ownership_df = spark.read.csv(\"dbfs:/FileStore/tables/HDS/Week7/OP_DTL_OWNRSHP_PGYR2023_P01302025_01212025.csv\", header=True, inferSchema=True)\n",
    "\n",
    "recipient_df = spark.read.csv(\"dbfs:/FileStore/tables/HDS/Week7/OP_CVRD_RCPNT_PRFL_SPLMTL_P01302025_01212025.csv\", header=True, inferSchema=True)\n",
    "\n",
    "research_df = spark.read.csv(\"dbfs:/FileStore/tables/HDS/Week7/OP_DTL_RSRCH_PGYR2023_P01302025_01212025.csv\", header=True, inferSchema=True)\n",
    "\n",
    "# save these data as tables in default data storage\n",
    "ownership_df.write.mode(\"overwrite\").saveAsTable(\"default.op_ownership_2023\")\n",
    "recipient_df.write.mode(\"overwrite\").saveAsTable(\"default.op_recipient_2023\")\n",
    "research_df.write.mode(\"overwrite\").saveAsTable(\"default.op_researc_2023\")\n",
    "\"\"\""
   ]
  },
  {
   "cell_type": "markdown",
   "metadata": {
    "application/vnd.databricks.v1+cell": {
     "cellMetadata": {},
     "inputWidgets": {},
     "nuid": "f9f1c746-3e49-4672-af05-3da2b601a58b",
     "showTitle": false,
     "tableResultSettingsMap": {},
     "title": ""
    }
   },
   "source": [
    "Question 1,2,3 which requires \"OP_DTL_GNRL_PGYR2023_P01302025_01212025.csv\" Data (including Nature of Payments column) can not be loaded in databricks and presumably can not loaded to jupyter notebook. I tried to uzip the files as it was in the discussion, but I could not load the data with my current knowledge. I ain't sure but there seems to be something wrong with that data. Therefore, I am only using the owenership, recipient, and research data and reformulated the original question 1,2,3 in a similar manner that can be done with these tables. Please consider this in mind.\n",
    "\n",
    "This notebook answers 5 questions about the dataset and show results using spark and sql for comparison."
   ]
  },
  {
   "cell_type": "markdown",
   "metadata": {
    "application/vnd.databricks.v1+cell": {
     "cellMetadata": {},
     "inputWidgets": {},
     "nuid": "a9fa1581-41c0-43ef-8901-89a4a80edf6b",
     "showTitle": false,
     "tableResultSettingsMap": {},
     "title": ""
    }
   },
   "source": [
    "1. What are the top 10 Terms of Interest with more than $1,000 invested by total number?"
   ]
  },
  {
   "cell_type": "code",
   "execution_count": 0,
   "metadata": {
    "application/vnd.databricks.v1+cell": {
     "cellMetadata": {
      "byteLimit": 2048000,
      "rowLimit": 10000
     },
     "inputWidgets": {},
     "nuid": "577c4441-d892-4010-9dce-8e070bd8a486",
     "showTitle": false,
     "tableResultSettingsMap": {},
     "title": ""
    }
   },
   "outputs": [
    {
     "output_type": "stream",
     "name": "stdout",
     "output_type": "stream",
     "text": [
      "+--------------------+-----+\n|   Terms_of_Interest|count|\n+--------------------+-----+\n| Membership Interest|  157|\n|        Common Stock|  111|\n|               Stock|   69|\n|1.) Value of inte...|   33|\n|              shares|   28|\n|Interest acquired...|   25|\n|Common and prefer...|   23|\n|ownership interes...|   23|\n|              Equity|   21|\n|Limited Liability...|   20|\n+--------------------+-----+\n\n"
     ]
    }
   ],
   "source": [
    "from pyspark.sql.functions import col, count\n",
    "\n",
    "# filter the data by requirements\n",
    "ownership_df.filter(col(\"Total_Amount_Invested_USDollars\") > 1000) \\\n",
    "    .groupBy(\"Terms_of_Interest\") \\\n",
    "    .agg(count(\"*\").alias(\"count\")) \\\n",
    "    .orderBy(col(\"count\").desc()) \\\n",
    "    .limit(10) \\\n",
    "    .show()"
   ]
  },
  {
   "cell_type": "code",
   "execution_count": 0,
   "metadata": {
    "application/vnd.databricks.v1+cell": {
     "cellMetadata": {
      "byteLimit": 2048000,
      "implicitDf": true,
      "rowLimit": 10000
     },
     "inputWidgets": {},
     "nuid": "efd9a1e3-54a0-47d4-993d-7c41f6e67def",
     "showTitle": false,
     "tableResultSettingsMap": {},
     "title": ""
    }
   },
   "outputs": [
    {
     "output_type": "display_data",
     "data": {
      "text/html": [
       "<style scoped>\n",
       "  .table-result-container {\n",
       "    max-height: 300px;\n",
       "    overflow: auto;\n",
       "  }\n",
       "  table, th, td {\n",
       "    border: 1px solid black;\n",
       "    border-collapse: collapse;\n",
       "  }\n",
       "  th, td {\n",
       "    padding: 5px;\n",
       "  }\n",
       "  th {\n",
       "    text-align: left;\n",
       "  }\n",
       "</style><div class='table-result-container'><table class='table-result'><thead style='background-color: white'><tr><th>Terms_of_Interest</th><th>count</th></tr></thead><tbody><tr><td>Membership Interest</td><td>157</td></tr><tr><td>Common Stock</td><td>111</td></tr><tr><td>Stock</td><td>69</td></tr><tr><td>1.) Value of interest is a cumulative total calculated by adding year-over-year ownership values per provider.\n",
       "</td><td>33</td></tr><tr><td>shares</td><td>28</td></tr><tr><td>Interest acquired as part of milestone payment for acquisition</td><td>25</td></tr><tr><td>Common and preferred stock</td><td>23</td></tr><tr><td>ownership interest transferred to HCP as part of terms of acquisition</td><td>23</td></tr><tr><td>Equity</td><td>21</td></tr><tr><td>Limited Liability Company Interest</td><td>20</td></tr></tbody></table></div>"
      ]
     },
     "metadata": {
      "application/vnd.databricks.v1+output": {
       "addedWidgets": {},
       "aggData": [],
       "aggError": "",
       "aggOverflow": false,
       "aggSchema": [],
       "aggSeriesLimitReached": false,
       "aggType": "",
       "arguments": {},
       "columnCustomDisplayInfos": {},
       "data": [
        [
         "Membership Interest",
         157
        ],
        [
         "Common Stock",
         111
        ],
        [
         "Stock",
         69
        ],
        [
         "1.) Value of interest is a cumulative total calculated by adding year-over-year ownership values per provider.\n",
         33
        ],
        [
         "shares",
         28
        ],
        [
         "Interest acquired as part of milestone payment for acquisition",
         25
        ],
        [
         "Common and preferred stock",
         23
        ],
        [
         "ownership interest transferred to HCP as part of terms of acquisition",
         23
        ],
        [
         "Equity",
         21
        ],
        [
         "Limited Liability Company Interest",
         20
        ]
       ],
       "datasetInfos": [],
       "dbfsResultPath": null,
       "isJsonSchema": true,
       "metadata": {},
       "overflow": false,
       "plotOptions": {
        "customPlotOptions": {},
        "displayType": "table",
        "pivotAggregation": null,
        "pivotColumns": null,
        "xColumns": null,
        "yColumns": null
       },
       "removedWidgets": [],
       "schema": [
        {
         "metadata": "{}",
         "name": "Terms_of_Interest",
         "type": "\"string\""
        },
        {
         "metadata": "{}",
         "name": "count",
         "type": "\"long\""
        }
       ],
       "type": "table"
      }
     },
     "output_type": "display_data"
    }
   ],
   "source": [
    "%sql\n",
    "SELECT Terms_of_Interest,\n",
    "       COUNT(*) AS count\n",
    "FROM op_ownership_2023\n",
    "WHERE Total_Amount_Invested_USDollars > 1000\n",
    "GROUP BY Terms_of_Interest\n",
    "ORDER BY count DESC\n",
    "LIMIT 10;"
   ]
  },
  {
   "cell_type": "markdown",
   "metadata": {
    "application/vnd.databricks.v1+cell": {
     "cellMetadata": {},
     "inputWidgets": {},
     "nuid": "4878e808-9356-4412-8455-f352dd72d641",
     "showTitle": false,
     "tableResultSettingsMap": {},
     "title": ""
    }
   },
   "source": [
    "* Membership interest, Common stock, and stock are dominating terms of interest that was invested over $1000.\n",
    "* Comparison of python and sql results are the same."
   ]
  },
  {
   "cell_type": "markdown",
   "metadata": {
    "application/vnd.databricks.v1+cell": {
     "cellMetadata": {},
     "inputWidgets": {},
     "nuid": "0f7e2225-cca6-4822-addd-22e210503277",
     "showTitle": false,
     "tableResultSettingsMap": {},
     "title": ""
    }
   },
   "source": [
    "2. What are the top principal investigators or covered recipients by total number?"
   ]
  },
  {
   "cell_type": "code",
   "execution_count": 0,
   "metadata": {
    "application/vnd.databricks.v1+cell": {
     "cellMetadata": {
      "byteLimit": 2048000,
      "rowLimit": 10000
     },
     "inputWidgets": {},
     "nuid": "471d6ce5-bd02-49df-80ae-5d0ea67f490d",
     "showTitle": false,
     "tableResultSettingsMap": {},
     "title": ""
    }
   },
   "outputs": [
    {
     "output_type": "stream",
     "name": "stdout",
     "output_type": "stream",
     "text": [
      "+-----------------------------------------------+------+\n|Principal_Investigator_1_Covered_Recipient_Type|count |\n+-----------------------------------------------+------+\n|Covered Recipient Physician                    |994641|\n|Covered Recipient Non-Physician Practitioner   |2140  |\n|United States                                  |6     |\n|1306013610                                     |1     |\n+-----------------------------------------------+------+\n\n"
     ]
    }
   ],
   "source": [
    "# filter the data by requirements\n",
    "research_df.filter(col(\"Principal_Investigator_1_Covered_Recipient_Type\").isNotNull()) \\\n",
    "    .groupBy(\"Principal_Investigator_1_Covered_Recipient_Type\") \\\n",
    "    .agg(count(\"*\").alias(\"count\")) \\\n",
    "    .orderBy(col(\"count\").desc()) \\\n",
    "    .show(truncate = False)"
   ]
  },
  {
   "cell_type": "code",
   "execution_count": 0,
   "metadata": {
    "application/vnd.databricks.v1+cell": {
     "cellMetadata": {
      "byteLimit": 2048000,
      "implicitDf": true,
      "rowLimit": 10000
     },
     "inputWidgets": {},
     "nuid": "b67bd83c-68d1-49ff-973a-5e73bcf7ce43",
     "showTitle": false,
     "tableResultSettingsMap": {},
     "title": ""
    }
   },
   "outputs": [
    {
     "output_type": "display_data",
     "data": {
      "text/html": [
       "<style scoped>\n",
       "  .table-result-container {\n",
       "    max-height: 300px;\n",
       "    overflow: auto;\n",
       "  }\n",
       "  table, th, td {\n",
       "    border: 1px solid black;\n",
       "    border-collapse: collapse;\n",
       "  }\n",
       "  th, td {\n",
       "    padding: 5px;\n",
       "  }\n",
       "  th {\n",
       "    text-align: left;\n",
       "  }\n",
       "</style><div class='table-result-container'><table class='table-result'><thead style='background-color: white'><tr><th>Principal_Investigator_1_Covered_Recipient_Type</th><th>count</th></tr></thead><tbody><tr><td>Covered Recipient Physician</td><td>994641</td></tr><tr><td>Covered Recipient Non-Physician Practitioner</td><td>2140</td></tr><tr><td>United States</td><td>6</td></tr><tr><td>1306013610</td><td>1</td></tr></tbody></table></div>"
      ]
     },
     "metadata": {
      "application/vnd.databricks.v1+output": {
       "addedWidgets": {},
       "aggData": [],
       "aggError": "",
       "aggOverflow": false,
       "aggSchema": [],
       "aggSeriesLimitReached": false,
       "aggType": "",
       "arguments": {},
       "columnCustomDisplayInfos": {},
       "data": [
        [
         "Covered Recipient Physician",
         994641
        ],
        [
         "Covered Recipient Non-Physician Practitioner",
         2140
        ],
        [
         "United States",
         6
        ],
        [
         "1306013610",
         1
        ]
       ],
       "datasetInfos": [],
       "dbfsResultPath": null,
       "isJsonSchema": true,
       "metadata": {},
       "overflow": false,
       "plotOptions": {
        "customPlotOptions": {},
        "displayType": "table",
        "pivotAggregation": null,
        "pivotColumns": null,
        "xColumns": null,
        "yColumns": null
       },
       "removedWidgets": [],
       "schema": [
        {
         "metadata": "{}",
         "name": "Principal_Investigator_1_Covered_Recipient_Type",
         "type": "\"string\""
        },
        {
         "metadata": "{}",
         "name": "count",
         "type": "\"long\""
        }
       ],
       "type": "table"
      }
     },
     "output_type": "display_data"
    }
   ],
   "source": [
    "%sql\n",
    "SELECT Principal_Investigator_1_Covered_Recipient_Type,\n",
    "       COUNT(*) AS count\n",
    "FROM op_research_2023\n",
    "WHERE Principal_Investigator_1_Covered_Recipient_Type IS NOT NULL\n",
    "GROUP BY Principal_Investigator_1_Covered_Recipient_Type\n",
    "ORDER BY count DESC;"
   ]
  },
  {
   "cell_type": "markdown",
   "metadata": {
    "application/vnd.databricks.v1+cell": {
     "cellMetadata": {},
     "inputWidgets": {},
     "nuid": "94f4c052-9eed-4a88-bcf2-0c6f2b133efc",
     "showTitle": false,
     "tableResultSettingsMap": {},
     "title": ""
    }
   },
   "source": [
    "* Covered recipient physicans consists the overwhelming proportion of covered recipients.\n",
    "* Comparison of python and sql results are the same."
   ]
  },
  {
   "cell_type": "markdown",
   "metadata": {
    "application/vnd.databricks.v1+cell": {
     "cellMetadata": {},
     "inputWidgets": {},
     "nuid": "7fb43f0f-540f-4564-b112-2e0618e37ace",
     "showTitle": false,
     "tableResultSettingsMap": {},
     "title": ""
    }
   },
   "source": [
    "3. What are the top 10 product categories or therapeutic areas by total amount of research payments?"
   ]
  },
  {
   "cell_type": "code",
   "execution_count": 0,
   "metadata": {
    "application/vnd.databricks.v1+cell": {
     "cellMetadata": {
      "byteLimit": 2048000,
      "rowLimit": 10000
     },
     "inputWidgets": {},
     "nuid": "c1961a9e-9b5b-4e02-9a89-0e31fda854f4",
     "showTitle": false,
     "tableResultSettingsMap": {},
     "title": ""
    }
   },
   "outputs": [
    {
     "output_type": "stream",
     "name": "stdout",
     "output_type": "stream",
     "text": [
      "+--------------------------------------+--------------------+\n|Product_Category_or_Therapeutic_Area_1|        total_amount|\n+--------------------------------------+--------------------+\n|                              Oncology|1.0304596049347514E9|\n|                              ONCOLOGY| 9.838664319536396E8|\n|                            Immunology|1.8717888397264186E8|\n|                             Neurology|1.7098073143218708E8|\n|                  Infections and In...| 1.589445241275518E8|\n|                              VACCINES|1.0753509171267414E8|\n|                  Cardiology/Vascul...| 8.555152524288756E7|\n|                           BioOncology| 6.102433124171868E7|\n|                         Ophthalmology| 5.763378277834958E7|\n|                            IMMUNOLOGY| 4.559288536039591E7|\n+--------------------------------------+--------------------+\n\n"
     ]
    }
   ],
   "source": [
    "from pyspark.sql.functions import sum\n",
    "\n",
    "# convert Total Amount of Payment US Dollars into string\n",
    "research_df = research_df.withColumn(\n",
    "    \"Total_Amount_of_Payment_USDollars\",\n",
    "    col(\"Total_Amount_of_Payment_USDollars\").cast(\"float\")\n",
    ")\n",
    "\n",
    "# filter the data by requirements\n",
    "research_df.filter(col(\"Product_Category_or_Therapeutic_Area_1\").isNotNull()) \\\n",
    "    .groupBy(\"Product_Category_or_Therapeutic_Area_1\") \\\n",
    "    .agg(sum(\"Total_Amount_of_Payment_USDollars\").alias(\"total_amount\")) \\\n",
    "    .orderBy(col(\"total_amount\").desc()) \\\n",
    "    .limit(10) \\\n",
    "    .show()"
   ]
  },
  {
   "cell_type": "code",
   "execution_count": 0,
   "metadata": {
    "application/vnd.databricks.v1+cell": {
     "cellMetadata": {
      "byteLimit": 2048000,
      "implicitDf": true,
      "rowLimit": 10000
     },
     "inputWidgets": {},
     "nuid": "9b045b1c-c45a-492d-bb46-98fe7329c999",
     "showTitle": false,
     "tableResultSettingsMap": {},
     "title": ""
    }
   },
   "outputs": [
    {
     "output_type": "display_data",
     "data": {
      "text/html": [
       "<style scoped>\n",
       "  .table-result-container {\n",
       "    max-height: 300px;\n",
       "    overflow: auto;\n",
       "  }\n",
       "  table, th, td {\n",
       "    border: 1px solid black;\n",
       "    border-collapse: collapse;\n",
       "  }\n",
       "  th, td {\n",
       "    padding: 5px;\n",
       "  }\n",
       "  th {\n",
       "    text-align: left;\n",
       "  }\n",
       "</style><div class='table-result-container'><table class='table-result'><thead style='background-color: white'><tr><th>Product_Category_or_Therapeutic_Area_1</th><th>total_amount</th></tr></thead><tbody><tr><td>Oncology</td><td>1.0304596055000001E9</td></tr><tr><td>ONCOLOGY</td><td>9.838664305599917E8</td></tr><tr><td>Immunology</td><td>1.8717888408000025E8</td></tr><tr><td>Neurology</td><td>1.7098073142999992E8</td></tr><tr><td>Infections and Infectious Diseases</td><td>1.589445241800033E8</td></tr><tr><td>VACCINES</td><td>1.0753509165000033E8</td></tr><tr><td>Cardiology/Vascular Diseases</td><td>8.555152519999978E7</td></tr><tr><td>BioOncology</td><td>6.1024330910000004E7</td></tr><tr><td>Ophthalmology</td><td>5.763378275999986E7</td></tr><tr><td>IMMUNOLOGY</td><td>4.559288520999992E7</td></tr></tbody></table></div>"
      ]
     },
     "metadata": {
      "application/vnd.databricks.v1+output": {
       "addedWidgets": {},
       "aggData": [],
       "aggError": "",
       "aggOverflow": false,
       "aggSchema": [],
       "aggSeriesLimitReached": false,
       "aggType": "",
       "arguments": {},
       "columnCustomDisplayInfos": {},
       "data": [
        [
         "Oncology",
         1.0304596055000001E9
        ],
        [
         "ONCOLOGY",
         9.838664305599917E8
        ],
        [
         "Immunology",
         1.8717888408000025E8
        ],
        [
         "Neurology",
         1.7098073142999992E8
        ],
        [
         "Infections and Infectious Diseases",
         1.589445241800033E8
        ],
        [
         "VACCINES",
         1.0753509165000033E8
        ],
        [
         "Cardiology/Vascular Diseases",
         8.555152519999978E7
        ],
        [
         "BioOncology",
         6.1024330910000004E7
        ],
        [
         "Ophthalmology",
         5.763378275999986E7
        ],
        [
         "IMMUNOLOGY",
         4.559288520999992E7
        ]
       ],
       "datasetInfos": [],
       "dbfsResultPath": null,
       "isJsonSchema": true,
       "metadata": {},
       "overflow": false,
       "plotOptions": {
        "customPlotOptions": {},
        "displayType": "table",
        "pivotAggregation": null,
        "pivotColumns": null,
        "xColumns": null,
        "yColumns": null
       },
       "removedWidgets": [],
       "schema": [
        {
         "metadata": "{}",
         "name": "Product_Category_or_Therapeutic_Area_1",
         "type": "\"string\""
        },
        {
         "metadata": "{}",
         "name": "total_amount",
         "type": "\"double\""
        }
       ],
       "type": "table"
      }
     },
     "output_type": "display_data"
    }
   ],
   "source": [
    "%sql\n",
    "SELECT Product_Category_or_Therapeutic_Area_1,\n",
    "       SUM(Total_Amount_of_Payment_USDollars) AS total_amount\n",
    "FROM op_research_2023\n",
    "WHERE Product_Category_or_Therapeutic_Area_1 IS NOT NULL\n",
    "GROUP BY Product_Category_or_Therapeutic_Area_1\n",
    "ORDER BY total_amount DESC\n",
    "LIMIT 10;\n"
   ]
  },
  {
   "cell_type": "markdown",
   "metadata": {
    "application/vnd.databricks.v1+cell": {
     "cellMetadata": {},
     "inputWidgets": {},
     "nuid": "276475e0-c506-46bf-aaf4-1306324c191f",
     "showTitle": false,
     "tableResultSettingsMap": {},
     "title": ""
    }
   },
   "source": [
    "* Oncology and immunology seems to be funded very well, considering they have two spots respectively in top 10. Oncology also includes BioOncology.\n",
    "* Comparison of python and sql results are the same."
   ]
  },
  {
   "cell_type": "markdown",
   "metadata": {
    "application/vnd.databricks.v1+cell": {
     "cellMetadata": {},
     "inputWidgets": {},
     "nuid": "d3d09ed0-16ed-4435-9be0-328ef6101086",
     "showTitle": false,
     "tableResultSettingsMap": {},
     "title": ""
    }
   },
   "source": [
    "* The total amount was not clear so we assume that it is Total_Amount_Invested_USDollars."
   ]
  },
  {
   "cell_type": "markdown",
   "metadata": {
    "application/vnd.databricks.v1+cell": {
     "cellMetadata": {},
     "inputWidgets": {},
     "nuid": "3edb3026-c148-4726-9a7b-b5aa96078a28",
     "showTitle": false,
     "tableResultSettingsMap": {},
     "title": ""
    }
   },
   "source": [
    "4. What are the top ten physician specialties by total amount?"
   ]
  },
  {
   "cell_type": "code",
   "execution_count": 0,
   "metadata": {
    "application/vnd.databricks.v1+cell": {
     "cellMetadata": {
      "byteLimit": 2048000,
      "implicitDf": true,
      "rowLimit": 10000
     },
     "inputWidgets": {},
     "nuid": "208a6e37-bdcb-4fb4-a631-15fd4bf758ac",
     "showTitle": false,
     "tableResultSettingsMap": {},
     "title": ""
    }
   },
   "outputs": [
    {
     "output_type": "stream",
     "name": "stdout",
     "output_type": "stream",
     "text": [
      "+----------------------------------------------------------------------------------------+--------------+\n|Physician_Specialty                                                                     |Total_Invested|\n+----------------------------------------------------------------------------------------+--------------+\n|Allopathic & Osteopathic Physicians|Internal Medicine                                   |1.2617592175E8|\n|Allopathic & Osteopathic Physicians|Orthopaedic Surgery                                 |1.720776963E7 |\n|Allopathic & Osteopathic Physicians|Neurological Surgery                                |9215456.67    |\n|Allopathic & Osteopathic Physicians|General Practice                                    |7833554.49    |\n|Allopathic & Osteopathic Physicians|Orthopaedic Surgery|Orthopaedic Surgery of the Spine|7774635.44    |\n|Allopathic & Osteopathic Physicians|Internal Medicine|Medical Oncology                  |5733256.5     |\n|Allopathic & Osteopathic Physicians|Ophthalmology                                       |4132615.43    |\n|Dental Providers|Dentist                                                                |3791925.95    |\n|Dental Providers|Dentist|Endodontics                                                    |3580273.5     |\n|Allopathic & Osteopathic Physicians|Orthopaedic Surgery|Foot and Ankle Surgery          |2632503.0     |\n+----------------------------------------------------------------------------------------+--------------+\n\n"
     ]
    }
   ],
   "source": [
    "# filter the data by requirements\n",
    "ownership_df.filter(col(\"Physician_Specialty\").isNotNull()) \\\n",
    "    .groupBy(\"Physician_Specialty\") \\\n",
    "    .agg(sum(\"Total_Amount_Invested_USDollars\").alias(\"total_amount\")) \\\n",
    "    .orderBy(col(\"total_amount\").desc()) \\\n",
    "    .limit(10) \\\n",
    "    .selectExpr(\n",
    "        \"Physician_Specialty\",\n",
    "        \"ROUND(total_amount, 2) as Total_Invested\"\n",
    "    ) \\\n",
    "    .show(truncate = False)"
   ]
  },
  {
   "cell_type": "code",
   "execution_count": 0,
   "metadata": {
    "application/vnd.databricks.v1+cell": {
     "cellMetadata": {
      "byteLimit": 2048000,
      "implicitDf": true,
      "rowLimit": 10000
     },
     "inputWidgets": {},
     "nuid": "10aeed37-303e-4de0-b928-352874dab855",
     "showTitle": false,
     "tableResultSettingsMap": {},
     "title": ""
    }
   },
   "outputs": [
    {
     "output_type": "display_data",
     "data": {
      "text/html": [
       "<style scoped>\n",
       "  .table-result-container {\n",
       "    max-height: 300px;\n",
       "    overflow: auto;\n",
       "  }\n",
       "  table, th, td {\n",
       "    border: 1px solid black;\n",
       "    border-collapse: collapse;\n",
       "  }\n",
       "  th, td {\n",
       "    padding: 5px;\n",
       "  }\n",
       "  th {\n",
       "    text-align: left;\n",
       "  }\n",
       "</style><div class='table-result-container'><table class='table-result'><thead style='background-color: white'><tr><th>Physician_Specialty</th><th>Total_Invested_USD</th></tr></thead><tbody><tr><td>Allopathic & Osteopathic Physicians|Internal Medicine</td><td>1.2617592175E8</td></tr><tr><td>Allopathic & Osteopathic Physicians|Orthopaedic Surgery</td><td>1.720776963E7</td></tr><tr><td>Allopathic & Osteopathic Physicians|Neurological Surgery</td><td>9215456.67</td></tr><tr><td>Allopathic & Osteopathic Physicians|General Practice</td><td>7833554.49</td></tr><tr><td>Allopathic & Osteopathic Physicians|Orthopaedic Surgery|Orthopaedic Surgery of the Spine</td><td>7774635.44</td></tr><tr><td>Allopathic & Osteopathic Physicians|Internal Medicine|Medical Oncology</td><td>5733256.5</td></tr><tr><td>Allopathic & Osteopathic Physicians|Ophthalmology</td><td>4132615.43</td></tr><tr><td>Dental Providers|Dentist</td><td>3791925.95</td></tr><tr><td>Dental Providers|Dentist|Endodontics</td><td>3580273.5</td></tr><tr><td>Allopathic & Osteopathic Physicians|Orthopaedic Surgery|Foot and Ankle Surgery</td><td>2632503.0</td></tr></tbody></table></div>"
      ]
     },
     "metadata": {
      "application/vnd.databricks.v1+output": {
       "addedWidgets": {},
       "aggData": [],
       "aggError": "",
       "aggOverflow": false,
       "aggSchema": [],
       "aggSeriesLimitReached": false,
       "aggType": "",
       "arguments": {},
       "columnCustomDisplayInfos": {},
       "data": [
        [
         "Allopathic & Osteopathic Physicians|Internal Medicine",
         1.2617592175E8
        ],
        [
         "Allopathic & Osteopathic Physicians|Orthopaedic Surgery",
         1.720776963E7
        ],
        [
         "Allopathic & Osteopathic Physicians|Neurological Surgery",
         9215456.67
        ],
        [
         "Allopathic & Osteopathic Physicians|General Practice",
         7833554.49
        ],
        [
         "Allopathic & Osteopathic Physicians|Orthopaedic Surgery|Orthopaedic Surgery of the Spine",
         7774635.44
        ],
        [
         "Allopathic & Osteopathic Physicians|Internal Medicine|Medical Oncology",
         5733256.5
        ],
        [
         "Allopathic & Osteopathic Physicians|Ophthalmology",
         4132615.43
        ],
        [
         "Dental Providers|Dentist",
         3791925.95
        ],
        [
         "Dental Providers|Dentist|Endodontics",
         3580273.5
        ],
        [
         "Allopathic & Osteopathic Physicians|Orthopaedic Surgery|Foot and Ankle Surgery",
         2632503.0
        ]
       ],
       "datasetInfos": [],
       "dbfsResultPath": null,
       "isJsonSchema": true,
       "metadata": {},
       "overflow": false,
       "plotOptions": {
        "customPlotOptions": {},
        "displayType": "table",
        "pivotAggregation": null,
        "pivotColumns": null,
        "xColumns": null,
        "yColumns": null
       },
       "removedWidgets": [],
       "schema": [
        {
         "metadata": "{}",
         "name": "Physician_Specialty",
         "type": "\"string\""
        },
        {
         "metadata": "{}",
         "name": "Total_Invested_USD",
         "type": "\"double\""
        }
       ],
       "type": "table"
      }
     },
     "output_type": "display_data"
    }
   ],
   "source": [
    "%sql\n",
    "SELECT Physician_Specialty,\n",
    "       ROUND(SUM(CAST(Total_Amount_Invested_USDollars AS FLOAT)), 2) AS Total_Invested_USD\n",
    "FROM op_ownership_2023\n",
    "WHERE Physician_Specialty IS NOT NULL\n",
    "GROUP BY Physician_Specialty\n",
    "ORDER BY Total_Invested_USD DESC\n",
    "LIMIT 10;"
   ]
  },
  {
   "cell_type": "markdown",
   "metadata": {
    "application/vnd.databricks.v1+cell": {
     "cellMetadata": {},
     "inputWidgets": {},
     "nuid": "5338c168-1050-4837-a1a8-57f3ee4ff076",
     "showTitle": false,
     "tableResultSettingsMap": {},
     "title": ""
    }
   },
   "source": [
    "* We can see that various specialties from physicians are invested, specifically for Allopathic & Osteopathic physicians, consisting 8 out of 10.\n",
    "* Comparison of python and sql results are the same."
   ]
  },
  {
   "cell_type": "markdown",
   "metadata": {
    "application/vnd.databricks.v1+cell": {
     "cellMetadata": {},
     "inputWidgets": {},
     "nuid": "d76db2d2-1c12-46b6-8f08-26e10637d497",
     "showTitle": false,
     "tableResultSettingsMap": {},
     "title": ""
    }
   },
   "source": [
    "%md\n",
    "5. Who are the top ten physicians by total amount?"
   ]
  },
  {
   "cell_type": "code",
   "execution_count": 0,
   "metadata": {
    "application/vnd.databricks.v1+cell": {
     "cellMetadata": {
      "byteLimit": 2048000,
      "rowLimit": 10000
     },
     "inputWidgets": {},
     "nuid": "352b864c-a266-4b7f-9cbd-ba9ef92cfa9b",
     "showTitle": false,
     "tableResultSettingsMap": {},
     "title": ""
    }
   },
   "outputs": [
    {
     "output_type": "stream",
     "name": "stdout",
     "output_type": "stream",
     "text": [
      "+-------------------+------------+\n|Physician_Full_Name|total_amount|\n+-------------------+------------+\n|George Lopez       |1.2468128E8 |\n|FREDERIC MOLL      |4809215.49  |\n|GEORGE DEMETRI     |4664013.5   |\n|Charles Goodis     |3580063.5   |\n|Benjamin MacLennan |2200000.0   |\n|JEROME BARAKOS     |1894999.0   |\n|Martha Stark       |1623989.0   |\n|SUNIL GUPTA        |1428704.0   |\n|Tamir Tawfik       |1345000.0   |\n|Curtis Hamann      |1250000.0   |\n+-------------------+------------+\n\n"
     ]
    }
   ],
   "source": [
    "from pyspark.sql.functions import concat_ws, round\n",
    "\n",
    "# filter the data by requirements\n",
    "ownership_df.filter(col(\"Total_Amount_Invested_USDollars\").isNotNull()) \\\n",
    "    .withColumn(\"Total_Amount_Invested_USDollars\", col(\"Total_Amount_Invested_USDollars\").cast(\"float\")) \\\n",
    "    .withColumn(\"Physician_Full_Name\", concat_ws(\" \", col(\"Physician_First_Name\"), col(\"Physician_Last_Name\"))) \\\n",
    "    .groupBy(\"Physician_Full_Name\") \\\n",
    "    .agg(round(sum(\"Total_Amount_Invested_USDollars\"), 2).alias(\"total_amount\")) \\\n",
    "    .orderBy(col(\"total_amount\").desc()) \\\n",
    "    .limit(10) \\\n",
    "    .show(truncate=False)"
   ]
  },
  {
   "cell_type": "code",
   "execution_count": 0,
   "metadata": {
    "application/vnd.databricks.v1+cell": {
     "cellMetadata": {
      "byteLimit": 2048000,
      "implicitDf": true,
      "rowLimit": 10000
     },
     "inputWidgets": {},
     "nuid": "3bb266f1-455f-414d-b5cb-90d424b91ce3",
     "showTitle": false,
     "tableResultSettingsMap": {},
     "title": ""
    }
   },
   "outputs": [
    {
     "output_type": "display_data",
     "data": {
      "text/html": [
       "<style scoped>\n",
       "  .table-result-container {\n",
       "    max-height: 300px;\n",
       "    overflow: auto;\n",
       "  }\n",
       "  table, th, td {\n",
       "    border: 1px solid black;\n",
       "    border-collapse: collapse;\n",
       "  }\n",
       "  th, td {\n",
       "    padding: 5px;\n",
       "  }\n",
       "  th {\n",
       "    text-align: left;\n",
       "  }\n",
       "</style><div class='table-result-container'><table class='table-result'><thead style='background-color: white'><tr><th>Physician_Full_Name</th><th>total_amount</th></tr></thead><tbody><tr><td>George Lopez</td><td>1.2468128E8</td></tr><tr><td>FREDERIC MOLL</td><td>4809215.49</td></tr><tr><td>GEORGE DEMETRI</td><td>4664013.5</td></tr><tr><td>Charles Goodis</td><td>3580063.5</td></tr><tr><td>Benjamin MacLennan</td><td>2200000.0</td></tr><tr><td>JEROME BARAKOS</td><td>1894999.0</td></tr><tr><td>Martha Stark</td><td>1623989.0</td></tr><tr><td>SUNIL GUPTA</td><td>1428704.0</td></tr><tr><td>Tamir Tawfik</td><td>1345000.0</td></tr><tr><td>Curtis Hamann</td><td>1250000.0</td></tr></tbody></table></div>"
      ]
     },
     "metadata": {
      "application/vnd.databricks.v1+output": {
       "addedWidgets": {},
       "aggData": [],
       "aggError": "",
       "aggOverflow": false,
       "aggSchema": [],
       "aggSeriesLimitReached": false,
       "aggType": "",
       "arguments": {},
       "columnCustomDisplayInfos": {},
       "data": [
        [
         "George Lopez",
         1.2468128E8
        ],
        [
         "FREDERIC MOLL",
         4809215.49
        ],
        [
         "GEORGE DEMETRI",
         4664013.5
        ],
        [
         "Charles Goodis",
         3580063.5
        ],
        [
         "Benjamin MacLennan",
         2200000.0
        ],
        [
         "JEROME BARAKOS",
         1894999.0
        ],
        [
         "Martha Stark",
         1623989.0
        ],
        [
         "SUNIL GUPTA",
         1428704.0
        ],
        [
         "Tamir Tawfik",
         1345000.0
        ],
        [
         "Curtis Hamann",
         1250000.0
        ]
       ],
       "datasetInfos": [],
       "dbfsResultPath": null,
       "isJsonSchema": true,
       "metadata": {},
       "overflow": false,
       "plotOptions": {
        "customPlotOptions": {},
        "displayType": "table",
        "pivotAggregation": null,
        "pivotColumns": null,
        "xColumns": null,
        "yColumns": null
       },
       "removedWidgets": [],
       "schema": [
        {
         "metadata": "{}",
         "name": "Physician_Full_Name",
         "type": "\"string\""
        },
        {
         "metadata": "{}",
         "name": "total_amount",
         "type": "\"double\""
        }
       ],
       "type": "table"
      }
     },
     "output_type": "display_data"
    }
   ],
   "source": [
    "%sql\n",
    "SELECT CONCAT_WS(' ', Physician_First_Name, Physician_Last_Name) AS Physician_Full_Name,\n",
    "       ROUND(SUM(CAST(Total_Amount_Invested_USDollars AS FLOAT)), 2) AS total_amount\n",
    "FROM op_ownership_2023\n",
    "WHERE Total_Amount_Invested_USDollars IS NOT NULL\n",
    "GROUP BY Physician_Full_Name\n",
    "ORDER BY total_amount DESC\n",
    "LIMIT 10;"
   ]
  },
  {
   "cell_type": "markdown",
   "metadata": {
    "application/vnd.databricks.v1+cell": {
     "cellMetadata": {},
     "inputWidgets": {},
     "nuid": "d7b37837-befb-4929-adfd-90845f1148c8",
     "showTitle": false,
     "tableResultSettingsMap": {},
     "title": ""
    }
   },
   "source": [
    "* The top physicia who were invested the most was George lopez.\n",
    "* Comparison of python and sql results are the same."
   ]
  }
 ],
 "metadata": {
  "application/vnd.databricks.v1+notebook": {
   "computePreferences": null,
   "dashboards": [],
   "environmentMetadata": null,
   "language": "python",
   "notebookMetadata": {
    "mostRecentlyExecutedCommandWithImplicitDF": {
     "commandId": 1907557647054273,
     "dataframes": [
      "_sqldf"
     ]
    },
    "pythonIndentUnit": 4
   },
   "notebookName": "Week 7 assignment",
   "widgets": {}
  }
 },
 "nbformat": 4,
 "nbformat_minor": 0
}
